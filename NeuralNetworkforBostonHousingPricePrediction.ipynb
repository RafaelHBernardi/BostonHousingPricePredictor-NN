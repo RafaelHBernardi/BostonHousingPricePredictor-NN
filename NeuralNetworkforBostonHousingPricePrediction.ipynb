{
 "cells": [
  {
   "cell_type": "markdown",
   "id": "7152a95f-5e2b-4a4e-a403-61cd2d4dbd19",
   "metadata": {},
   "source": [
    "<h1>Boston Housing Price Prediction Using Neural Networks</h1>\n",
    "\n",
    "<p>\n",
    "    This project implements a neural network model to predict housing prices in Boston using the Boston Housing dataset. \n",
    "    The model utilizes TensorFlow and Keras to build a multi-layered neural network capable of capturing complex relationships \n",
    "    between various features of the houses and their corresponding prices.\n",
    "</p>\n",
    "\n",
    "<h2>Overview</h2>\n",
    "<p>\n",
    "    The key components of this implementation include:\n",
    "</p>\n",
    "<ul>\n",
    "    <li><strong>Data Loading</strong>: The Boston Housing dataset is loaded using TensorFlow's built-in dataset.</li>\n",
    "    <li><strong>Data Normalization</strong>: Input features are normalized to improve model performance.</li>\n",
    "    <li><strong>Neural Network Architecture</strong>: A sequential model with multiple dense layers is defined, using ReLU activation functions.</li>\n",
    "    <li><strong>Model Training</strong>: The model is trained using mean absolute error as the loss function.</li>\n",
    "    <li><strong>Predictions</strong>: The model can make predictions on new data after training.</li>\n",
    "</ul>\n",
    "\n",
    "<p>\n",
    "    Made by <strong>Rafael H. Bernardi</strong>.\n",
    "    You can find more in my\n",
    "    <a href=\"https://github.com/RafaelHBernardi\" target=\"_blank\">GitHub</a>.\n",
    "</p>\n"
   ]
  },
  {
   "cell_type": "code",
   "execution_count": 137,
   "id": "220c141b-f0f6-4593-b271-2fe2bbb5178d",
   "metadata": {},
   "outputs": [],
   "source": [
    "import tensorflow as tf\n",
    "import numpy as np\n",
    "import matplotlib.pyplot as plt\n",
    "import pandas as pd\n",
    "from tensorflow import keras"
   ]
  },
  {
   "cell_type": "code",
   "execution_count": 138,
   "id": "a7de0c28-2293-4965-a3d6-bc09df462079",
   "metadata": {},
   "outputs": [
    {
     "name": "stdout",
     "output_type": "stream",
     "text": [
      "2.17.0\n",
      "1.26.4\n"
     ]
    }
   ],
   "source": [
    "print(tf.__version__) # 2.17.0\n",
    "print(np.__version__) # 1.26.4\n",
    "# If you don't have these specific versions the code may not work correctly\n",
    "# *pip install -r requirements.txt"
   ]
  },
  {
   "cell_type": "code",
   "execution_count": 139,
   "id": "cde817ea-5ff6-4e1f-8cf7-7dee8dae8770",
   "metadata": {},
   "outputs": [],
   "source": [
    "# Importando os dados\n",
    "(dados_treino, rotulos_treino),(dados_teste, rotulos_teste) = tf.keras.datasets.boston_housing.load_data(\n",
    "    path='boston_housing.npz', test_split=0.2,seed=42)"
   ]
  },
  {
   "cell_type": "code",
   "execution_count": 140,
   "id": "b9aa1c5a-4557-44cf-93ff-deb3c90f3ebb",
   "metadata": {},
   "outputs": [],
   "source": [
    "# Retirando 1% dos dados para predição depois\n",
    "\n",
    "num_amostras = int(0.01 * len(dados_treino))\n",
    "indices = np.random.permutation(len(dados_treino))\n",
    "\n",
    "indices_previsao = indices[:num_amostras]\n",
    "dados_previsao = dados_treino[indices_previsao]\n",
    "rotulos_previsao = rotulos_treino[indices_previsao]\n",
    "\n",
    "# removendo do conjunto original\n",
    "dados_treino = np.delete(dados_treino, indices_previsao, axis=0)\n",
    "rotulos_treino = np.delete(rotulos_treino, indices_previsao, axis=0)"
   ]
  },
  {
   "cell_type": "code",
   "execution_count": 141,
   "id": "aa4beb3d-b6d3-4fd9-843d-c8a5d933a3c5",
   "metadata": {},
   "outputs": [
    {
     "name": "stdout",
     "output_type": "stream",
     "text": [
      "Dados Treino: (400, 13)\n",
      "Rotulos Treino: (400,)\n",
      "Dados Teste: (102, 13)\n",
      "Rotulos Treino: (102,)\n"
     ]
    }
   ],
   "source": [
    "print(f\"Dados Treino: {dados_treino.shape}\")\n",
    "print(f\"Rotulos Treino: {rotulos_treino.shape}\")\n",
    "print(f\"Dados Teste: {dados_teste.shape}\")\n",
    "print(f\"Rotulos Treino: {rotulos_teste.shape}\")"
   ]
  },
  {
   "cell_type": "markdown",
   "id": "2857a546-b1f3-4c23-9089-fd183a498ff4",
   "metadata": {},
   "source": [
    "<h2>Normalizando</h2>"
   ]
  },
  {
   "cell_type": "code",
   "execution_count": 143,
   "id": "47136a6e-534a-4635-84c2-3b05ccac32b1",
   "metadata": {},
   "outputs": [],
   "source": [
    "normal = tf.keras.layers.Normalization()\n",
    "normal.adapt(np.array(dados_treino))\n"
   ]
  },
  {
   "cell_type": "markdown",
   "id": "08944805-6d2e-402b-9495-39287692eb5c",
   "metadata": {},
   "source": [
    "<h2>Model</h2>"
   ]
  },
  {
   "cell_type": "code",
   "execution_count": 145,
   "id": "d4b17bfd-7e77-436d-ad1b-734904a42f4a",
   "metadata": {},
   "outputs": [],
   "source": [
    "model = keras.Sequential([\n",
    "    normal,\n",
    "    keras.layers.Dense(64, activation='relu'),\n",
    "    keras.layers.Dense(64, activation='relu'),\n",
    "    keras.layers.Dense(1)\n",
    "])"
   ]
  },
  {
   "cell_type": "code",
   "execution_count": 146,
   "id": "3f834f23-bb71-4d21-a9f4-f7c55d28f2e1",
   "metadata": {},
   "outputs": [],
   "source": [
    "perda = keras.losses.MeanAbsoluteError() # ou o mse loss='mse'\n",
    "otimizador = keras.optimizers.Adam(learning_rate=0.01) # ou o 'rmsprop'\n",
    "model.compile(loss=perda,optimizer=otimizador,metrics=['mae'])"
   ]
  },
  {
   "cell_type": "code",
   "execution_count": 147,
   "id": "59df06f5-3d8e-4d57-91f3-ccc6859374b7",
   "metadata": {},
   "outputs": [
    {
     "name": "stdout",
     "output_type": "stream",
     "text": [
      "Epoch 1/100\n",
      "\u001b[1m10/10\u001b[0m \u001b[32m━━━━━━━━━━━━━━━━━━━━\u001b[0m\u001b[37m\u001b[0m \u001b[1m3s\u001b[0m 42ms/step - loss: 19.9131 - mae: 19.9131 - val_loss: 9.2054 - val_mae: 9.2054\n",
      "Epoch 2/100\n",
      "\u001b[1m10/10\u001b[0m \u001b[32m━━━━━━━━━━━━━━━━━━━━\u001b[0m\u001b[37m\u001b[0m \u001b[1m0s\u001b[0m 7ms/step - loss: 7.7829 - mae: 7.7829 - val_loss: 4.4101 - val_mae: 4.4101\n",
      "Epoch 3/100\n",
      "\u001b[1m10/10\u001b[0m \u001b[32m━━━━━━━━━━━━━━━━━━━━\u001b[0m\u001b[37m\u001b[0m \u001b[1m0s\u001b[0m 7ms/step - loss: 4.9639 - mae: 4.9639 - val_loss: 3.4149 - val_mae: 3.4149\n",
      "Epoch 4/100\n",
      "\u001b[1m10/10\u001b[0m \u001b[32m━━━━━━━━━━━━━━━━━━━━\u001b[0m\u001b[37m\u001b[0m \u001b[1m0s\u001b[0m 6ms/step - loss: 3.9417 - mae: 3.9417 - val_loss: 3.1488 - val_mae: 3.1488\n",
      "Epoch 5/100\n",
      "\u001b[1m10/10\u001b[0m \u001b[32m━━━━━━━━━━━━━━━━━━━━\u001b[0m\u001b[37m\u001b[0m \u001b[1m0s\u001b[0m 8ms/step - loss: 3.0420 - mae: 3.0420 - val_loss: 2.7190 - val_mae: 2.7190\n",
      "Epoch 6/100\n",
      "\u001b[1m10/10\u001b[0m \u001b[32m━━━━━━━━━━━━━━━━━━━━\u001b[0m\u001b[37m\u001b[0m \u001b[1m0s\u001b[0m 8ms/step - loss: 2.5146 - mae: 2.5146 - val_loss: 2.7100 - val_mae: 2.7100\n",
      "Epoch 7/100\n",
      "\u001b[1m10/10\u001b[0m \u001b[32m━━━━━━━━━━━━━━━━━━━━\u001b[0m\u001b[37m\u001b[0m \u001b[1m0s\u001b[0m 6ms/step - loss: 2.5261 - mae: 2.5261 - val_loss: 2.8232 - val_mae: 2.8232\n",
      "Epoch 8/100\n",
      "\u001b[1m10/10\u001b[0m \u001b[32m━━━━━━━━━━━━━━━━━━━━\u001b[0m\u001b[37m\u001b[0m \u001b[1m0s\u001b[0m 7ms/step - loss: 2.4263 - mae: 2.4263 - val_loss: 2.7165 - val_mae: 2.7165\n",
      "Epoch 9/100\n",
      "\u001b[1m10/10\u001b[0m \u001b[32m━━━━━━━━━━━━━━━━━━━━\u001b[0m\u001b[37m\u001b[0m \u001b[1m0s\u001b[0m 7ms/step - loss: 2.3585 - mae: 2.3585 - val_loss: 2.9236 - val_mae: 2.9236\n",
      "Epoch 10/100\n",
      "\u001b[1m10/10\u001b[0m \u001b[32m━━━━━━━━━━━━━━━━━━━━\u001b[0m\u001b[37m\u001b[0m \u001b[1m0s\u001b[0m 6ms/step - loss: 2.2593 - mae: 2.2593 - val_loss: 2.7203 - val_mae: 2.7203\n",
      "Epoch 11/100\n",
      "\u001b[1m10/10\u001b[0m \u001b[32m━━━━━━━━━━━━━━━━━━━━\u001b[0m\u001b[37m\u001b[0m \u001b[1m0s\u001b[0m 7ms/step - loss: 2.1745 - mae: 2.1745 - val_loss: 2.7563 - val_mae: 2.7563\n",
      "Epoch 12/100\n",
      "\u001b[1m10/10\u001b[0m \u001b[32m━━━━━━━━━━━━━━━━━━━━\u001b[0m\u001b[37m\u001b[0m \u001b[1m0s\u001b[0m 7ms/step - loss: 1.9752 - mae: 1.9752 - val_loss: 2.6394 - val_mae: 2.6394\n",
      "Epoch 13/100\n",
      "\u001b[1m10/10\u001b[0m \u001b[32m━━━━━━━━━━━━━━━━━━━━\u001b[0m\u001b[37m\u001b[0m \u001b[1m0s\u001b[0m 7ms/step - loss: 2.1941 - mae: 2.1941 - val_loss: 3.0446 - val_mae: 3.0446\n",
      "Epoch 14/100\n",
      "\u001b[1m10/10\u001b[0m \u001b[32m━━━━━━━━━━━━━━━━━━━━\u001b[0m\u001b[37m\u001b[0m \u001b[1m0s\u001b[0m 6ms/step - loss: 2.3553 - mae: 2.3553 - val_loss: 2.7803 - val_mae: 2.7803\n",
      "Epoch 15/100\n",
      "\u001b[1m10/10\u001b[0m \u001b[32m━━━━━━━━━━━━━━━━━━━━\u001b[0m\u001b[37m\u001b[0m \u001b[1m0s\u001b[0m 6ms/step - loss: 1.9764 - mae: 1.9764 - val_loss: 2.7262 - val_mae: 2.7262\n",
      "Epoch 16/100\n",
      "\u001b[1m10/10\u001b[0m \u001b[32m━━━━━━━━━━━━━━━━━━━━\u001b[0m\u001b[37m\u001b[0m \u001b[1m0s\u001b[0m 8ms/step - loss: 2.0367 - mae: 2.0367 - val_loss: 2.4671 - val_mae: 2.4671\n",
      "Epoch 17/100\n",
      "\u001b[1m10/10\u001b[0m \u001b[32m━━━━━━━━━━━━━━━━━━━━\u001b[0m\u001b[37m\u001b[0m \u001b[1m0s\u001b[0m 5ms/step - loss: 2.0144 - mae: 2.0144 - val_loss: 2.7763 - val_mae: 2.7763\n",
      "Epoch 18/100\n",
      "\u001b[1m10/10\u001b[0m \u001b[32m━━━━━━━━━━━━━━━━━━━━\u001b[0m\u001b[37m\u001b[0m \u001b[1m0s\u001b[0m 6ms/step - loss: 1.9869 - mae: 1.9869 - val_loss: 2.7072 - val_mae: 2.7072\n",
      "Epoch 19/100\n",
      "\u001b[1m10/10\u001b[0m \u001b[32m━━━━━━━━━━━━━━━━━━━━\u001b[0m\u001b[37m\u001b[0m \u001b[1m0s\u001b[0m 7ms/step - loss: 2.0960 - mae: 2.0960 - val_loss: 2.6895 - val_mae: 2.6895\n",
      "Epoch 20/100\n",
      "\u001b[1m10/10\u001b[0m \u001b[32m━━━━━━━━━━━━━━━━━━━━\u001b[0m\u001b[37m\u001b[0m \u001b[1m0s\u001b[0m 7ms/step - loss: 1.8680 - mae: 1.8680 - val_loss: 2.7574 - val_mae: 2.7574\n",
      "Epoch 21/100\n",
      "\u001b[1m10/10\u001b[0m \u001b[32m━━━━━━━━━━━━━━━━━━━━\u001b[0m\u001b[37m\u001b[0m \u001b[1m0s\u001b[0m 7ms/step - loss: 1.8393 - mae: 1.8393 - val_loss: 2.6319 - val_mae: 2.6319\n",
      "Epoch 22/100\n",
      "\u001b[1m10/10\u001b[0m \u001b[32m━━━━━━━━━━━━━━━━━━━━\u001b[0m\u001b[37m\u001b[0m \u001b[1m0s\u001b[0m 8ms/step - loss: 1.6277 - mae: 1.6277 - val_loss: 2.9149 - val_mae: 2.9149\n",
      "Epoch 23/100\n",
      "\u001b[1m10/10\u001b[0m \u001b[32m━━━━━━━━━━━━━━━━━━━━\u001b[0m\u001b[37m\u001b[0m \u001b[1m0s\u001b[0m 7ms/step - loss: 1.8567 - mae: 1.8567 - val_loss: 2.8114 - val_mae: 2.8114\n",
      "Epoch 24/100\n",
      "\u001b[1m10/10\u001b[0m \u001b[32m━━━━━━━━━━━━━━━━━━━━\u001b[0m\u001b[37m\u001b[0m \u001b[1m0s\u001b[0m 7ms/step - loss: 2.2253 - mae: 2.2253 - val_loss: 3.2068 - val_mae: 3.2068\n",
      "Epoch 25/100\n",
      "\u001b[1m10/10\u001b[0m \u001b[32m━━━━━━━━━━━━━━━━━━━━\u001b[0m\u001b[37m\u001b[0m \u001b[1m0s\u001b[0m 7ms/step - loss: 2.1024 - mae: 2.1024 - val_loss: 2.8844 - val_mae: 2.8844\n",
      "Epoch 26/100\n",
      "\u001b[1m10/10\u001b[0m \u001b[32m━━━━━━━━━━━━━━━━━━━━\u001b[0m\u001b[37m\u001b[0m \u001b[1m0s\u001b[0m 6ms/step - loss: 2.0290 - mae: 2.0290 - val_loss: 2.6092 - val_mae: 2.6092\n",
      "Epoch 27/100\n",
      "\u001b[1m10/10\u001b[0m \u001b[32m━━━━━━━━━━━━━━━━━━━━\u001b[0m\u001b[37m\u001b[0m \u001b[1m0s\u001b[0m 8ms/step - loss: 2.0449 - mae: 2.0449 - val_loss: 2.7593 - val_mae: 2.7593\n",
      "Epoch 28/100\n",
      "\u001b[1m10/10\u001b[0m \u001b[32m━━━━━━━━━━━━━━━━━━━━\u001b[0m\u001b[37m\u001b[0m \u001b[1m0s\u001b[0m 8ms/step - loss: 1.7723 - mae: 1.7723 - val_loss: 2.5002 - val_mae: 2.5002\n",
      "Epoch 29/100\n",
      "\u001b[1m10/10\u001b[0m \u001b[32m━━━━━━━━━━━━━━━━━━━━\u001b[0m\u001b[37m\u001b[0m \u001b[1m0s\u001b[0m 8ms/step - loss: 1.8460 - mae: 1.8460 - val_loss: 2.8412 - val_mae: 2.8412\n",
      "Epoch 30/100\n",
      "\u001b[1m10/10\u001b[0m \u001b[32m━━━━━━━━━━━━━━━━━━━━\u001b[0m\u001b[37m\u001b[0m \u001b[1m0s\u001b[0m 7ms/step - loss: 1.8171 - mae: 1.8171 - val_loss: 2.9508 - val_mae: 2.9508\n",
      "Epoch 31/100\n",
      "\u001b[1m10/10\u001b[0m \u001b[32m━━━━━━━━━━━━━━━━━━━━\u001b[0m\u001b[37m\u001b[0m \u001b[1m0s\u001b[0m 7ms/step - loss: 2.1976 - mae: 2.1976 - val_loss: 2.8108 - val_mae: 2.8108\n",
      "Epoch 32/100\n",
      "\u001b[1m10/10\u001b[0m \u001b[32m━━━━━━━━━━━━━━━━━━━━\u001b[0m\u001b[37m\u001b[0m \u001b[1m0s\u001b[0m 6ms/step - loss: 2.0701 - mae: 2.0701 - val_loss: 2.7748 - val_mae: 2.7748\n",
      "Epoch 33/100\n",
      "\u001b[1m10/10\u001b[0m \u001b[32m━━━━━━━━━━━━━━━━━━━━\u001b[0m\u001b[37m\u001b[0m \u001b[1m0s\u001b[0m 6ms/step - loss: 1.9350 - mae: 1.9350 - val_loss: 2.7008 - val_mae: 2.7008\n",
      "Epoch 34/100\n",
      "\u001b[1m10/10\u001b[0m \u001b[32m━━━━━━━━━━━━━━━━━━━━\u001b[0m\u001b[37m\u001b[0m \u001b[1m0s\u001b[0m 6ms/step - loss: 1.9163 - mae: 1.9163 - val_loss: 2.6546 - val_mae: 2.6546\n",
      "Epoch 35/100\n",
      "\u001b[1m10/10\u001b[0m \u001b[32m━━━━━━━━━━━━━━━━━━━━\u001b[0m\u001b[37m\u001b[0m \u001b[1m0s\u001b[0m 6ms/step - loss: 1.6943 - mae: 1.6943 - val_loss: 2.8135 - val_mae: 2.8135\n",
      "Epoch 36/100\n",
      "\u001b[1m10/10\u001b[0m \u001b[32m━━━━━━━━━━━━━━━━━━━━\u001b[0m\u001b[37m\u001b[0m \u001b[1m0s\u001b[0m 6ms/step - loss: 1.9520 - mae: 1.9520 - val_loss: 2.6858 - val_mae: 2.6858\n",
      "Epoch 37/100\n",
      "\u001b[1m10/10\u001b[0m \u001b[32m━━━━━━━━━━━━━━━━━━━━\u001b[0m\u001b[37m\u001b[0m \u001b[1m0s\u001b[0m 6ms/step - loss: 1.8050 - mae: 1.8050 - val_loss: 2.6342 - val_mae: 2.6342\n",
      "Epoch 38/100\n",
      "\u001b[1m10/10\u001b[0m \u001b[32m━━━━━━━━━━━━━━━━━━━━\u001b[0m\u001b[37m\u001b[0m \u001b[1m0s\u001b[0m 5ms/step - loss: 2.0371 - mae: 2.0371 - val_loss: 2.9060 - val_mae: 2.9060\n",
      "Epoch 39/100\n",
      "\u001b[1m10/10\u001b[0m \u001b[32m━━━━━━━━━━━━━━━━━━━━\u001b[0m\u001b[37m\u001b[0m \u001b[1m0s\u001b[0m 7ms/step - loss: 1.7812 - mae: 1.7812 - val_loss: 2.9244 - val_mae: 2.9244\n",
      "Epoch 40/100\n",
      "\u001b[1m10/10\u001b[0m \u001b[32m━━━━━━━━━━━━━━━━━━━━\u001b[0m\u001b[37m\u001b[0m \u001b[1m0s\u001b[0m 6ms/step - loss: 1.7662 - mae: 1.7662 - val_loss: 2.6948 - val_mae: 2.6948\n",
      "Epoch 41/100\n",
      "\u001b[1m10/10\u001b[0m \u001b[32m━━━━━━━━━━━━━━━━━━━━\u001b[0m\u001b[37m\u001b[0m \u001b[1m0s\u001b[0m 6ms/step - loss: 1.6615 - mae: 1.6615 - val_loss: 2.6462 - val_mae: 2.6462\n",
      "Epoch 42/100\n",
      "\u001b[1m10/10\u001b[0m \u001b[32m━━━━━━━━━━━━━━━━━━━━\u001b[0m\u001b[37m\u001b[0m \u001b[1m0s\u001b[0m 6ms/step - loss: 1.7818 - mae: 1.7818 - val_loss: 2.6550 - val_mae: 2.6550\n",
      "Epoch 43/100\n",
      "\u001b[1m10/10\u001b[0m \u001b[32m━━━━━━━━━━━━━━━━━━━━\u001b[0m\u001b[37m\u001b[0m \u001b[1m0s\u001b[0m 6ms/step - loss: 1.6905 - mae: 1.6905 - val_loss: 2.6554 - val_mae: 2.6554\n",
      "Epoch 44/100\n",
      "\u001b[1m10/10\u001b[0m \u001b[32m━━━━━━━━━━━━━━━━━━━━\u001b[0m\u001b[37m\u001b[0m \u001b[1m0s\u001b[0m 6ms/step - loss: 1.9551 - mae: 1.9551 - val_loss: 2.7259 - val_mae: 2.7259\n",
      "Epoch 45/100\n",
      "\u001b[1m10/10\u001b[0m \u001b[32m━━━━━━━━━━━━━━━━━━━━\u001b[0m\u001b[37m\u001b[0m \u001b[1m0s\u001b[0m 6ms/step - loss: 1.9776 - mae: 1.9776 - val_loss: 2.9388 - val_mae: 2.9388\n",
      "Epoch 46/100\n",
      "\u001b[1m10/10\u001b[0m \u001b[32m━━━━━━━━━━━━━━━━━━━━\u001b[0m\u001b[37m\u001b[0m \u001b[1m0s\u001b[0m 7ms/step - loss: 1.8428 - mae: 1.8428 - val_loss: 2.6914 - val_mae: 2.6914\n",
      "Epoch 47/100\n",
      "\u001b[1m10/10\u001b[0m \u001b[32m━━━━━━━━━━━━━━━━━━━━\u001b[0m\u001b[37m\u001b[0m \u001b[1m0s\u001b[0m 6ms/step - loss: 1.8467 - mae: 1.8467 - val_loss: 2.6985 - val_mae: 2.6985\n",
      "Epoch 48/100\n",
      "\u001b[1m10/10\u001b[0m \u001b[32m━━━━━━━━━━━━━━━━━━━━\u001b[0m\u001b[37m\u001b[0m \u001b[1m0s\u001b[0m 6ms/step - loss: 1.5951 - mae: 1.5951 - val_loss: 2.6518 - val_mae: 2.6518\n",
      "Epoch 49/100\n",
      "\u001b[1m10/10\u001b[0m \u001b[32m━━━━━━━━━━━━━━━━━━━━\u001b[0m\u001b[37m\u001b[0m \u001b[1m0s\u001b[0m 6ms/step - loss: 1.8716 - mae: 1.8716 - val_loss: 2.8361 - val_mae: 2.8361\n",
      "Epoch 50/100\n",
      "\u001b[1m10/10\u001b[0m \u001b[32m━━━━━━━━━━━━━━━━━━━━\u001b[0m\u001b[37m\u001b[0m \u001b[1m0s\u001b[0m 6ms/step - loss: 1.8938 - mae: 1.8938 - val_loss: 2.7197 - val_mae: 2.7197\n",
      "Epoch 51/100\n",
      "\u001b[1m10/10\u001b[0m \u001b[32m━━━━━━━━━━━━━━━━━━━━\u001b[0m\u001b[37m\u001b[0m \u001b[1m0s\u001b[0m 7ms/step - loss: 1.8315 - mae: 1.8315 - val_loss: 2.7555 - val_mae: 2.7555\n",
      "Epoch 52/100\n",
      "\u001b[1m10/10\u001b[0m \u001b[32m━━━━━━━━━━━━━━━━━━━━\u001b[0m\u001b[37m\u001b[0m \u001b[1m0s\u001b[0m 7ms/step - loss: 1.7779 - mae: 1.7779 - val_loss: 2.7549 - val_mae: 2.7549\n",
      "Epoch 53/100\n",
      "\u001b[1m10/10\u001b[0m \u001b[32m━━━━━━━━━━━━━━━━━━━━\u001b[0m\u001b[37m\u001b[0m \u001b[1m0s\u001b[0m 7ms/step - loss: 1.9746 - mae: 1.9746 - val_loss: 2.9137 - val_mae: 2.9137\n",
      "Epoch 54/100\n",
      "\u001b[1m10/10\u001b[0m \u001b[32m━━━━━━━━━━━━━━━━━━━━\u001b[0m\u001b[37m\u001b[0m \u001b[1m0s\u001b[0m 7ms/step - loss: 1.9615 - mae: 1.9615 - val_loss: 2.6148 - val_mae: 2.6148\n",
      "Epoch 55/100\n",
      "\u001b[1m10/10\u001b[0m \u001b[32m━━━━━━━━━━━━━━━━━━━━\u001b[0m\u001b[37m\u001b[0m \u001b[1m0s\u001b[0m 6ms/step - loss: 1.6579 - mae: 1.6579 - val_loss: 2.7259 - val_mae: 2.7259\n",
      "Epoch 56/100\n",
      "\u001b[1m10/10\u001b[0m \u001b[32m━━━━━━━━━━━━━━━━━━━━\u001b[0m\u001b[37m\u001b[0m \u001b[1m0s\u001b[0m 6ms/step - loss: 1.6372 - mae: 1.6372 - val_loss: 2.6228 - val_mae: 2.6228\n",
      "Epoch 57/100\n",
      "\u001b[1m10/10\u001b[0m \u001b[32m━━━━━━━━━━━━━━━━━━━━\u001b[0m\u001b[37m\u001b[0m \u001b[1m0s\u001b[0m 6ms/step - loss: 1.7062 - mae: 1.7062 - val_loss: 2.7123 - val_mae: 2.7123\n",
      "Epoch 58/100\n",
      "\u001b[1m10/10\u001b[0m \u001b[32m━━━━━━━━━━━━━━━━━━━━\u001b[0m\u001b[37m\u001b[0m \u001b[1m0s\u001b[0m 7ms/step - loss: 1.8892 - mae: 1.8892 - val_loss: 2.7140 - val_mae: 2.7140\n",
      "Epoch 59/100\n",
      "\u001b[1m10/10\u001b[0m \u001b[32m━━━━━━━━━━━━━━━━━━━━\u001b[0m\u001b[37m\u001b[0m \u001b[1m0s\u001b[0m 7ms/step - loss: 1.5791 - mae: 1.5791 - val_loss: 2.6011 - val_mae: 2.6011\n",
      "Epoch 60/100\n",
      "\u001b[1m10/10\u001b[0m \u001b[32m━━━━━━━━━━━━━━━━━━━━\u001b[0m\u001b[37m\u001b[0m \u001b[1m0s\u001b[0m 7ms/step - loss: 1.6124 - mae: 1.6124 - val_loss: 2.7410 - val_mae: 2.7410\n",
      "Epoch 61/100\n",
      "\u001b[1m10/10\u001b[0m \u001b[32m━━━━━━━━━━━━━━━━━━━━\u001b[0m\u001b[37m\u001b[0m \u001b[1m0s\u001b[0m 6ms/step - loss: 1.5728 - mae: 1.5728 - val_loss: 2.8014 - val_mae: 2.8014\n",
      "Epoch 62/100\n",
      "\u001b[1m10/10\u001b[0m \u001b[32m━━━━━━━━━━━━━━━━━━━━\u001b[0m\u001b[37m\u001b[0m \u001b[1m0s\u001b[0m 6ms/step - loss: 1.6578 - mae: 1.6578 - val_loss: 2.9104 - val_mae: 2.9104\n",
      "Epoch 63/100\n",
      "\u001b[1m10/10\u001b[0m \u001b[32m━━━━━━━━━━━━━━━━━━━━\u001b[0m\u001b[37m\u001b[0m \u001b[1m0s\u001b[0m 7ms/step - loss: 1.8485 - mae: 1.8485 - val_loss: 2.4931 - val_mae: 2.4931\n",
      "Epoch 64/100\n",
      "\u001b[1m10/10\u001b[0m \u001b[32m━━━━━━━━━━━━━━━━━━━━\u001b[0m\u001b[37m\u001b[0m \u001b[1m0s\u001b[0m 7ms/step - loss: 1.5115 - mae: 1.5115 - val_loss: 2.7520 - val_mae: 2.7520\n",
      "Epoch 65/100\n",
      "\u001b[1m10/10\u001b[0m \u001b[32m━━━━━━━━━━━━━━━━━━━━\u001b[0m\u001b[37m\u001b[0m \u001b[1m0s\u001b[0m 8ms/step - loss: 1.6823 - mae: 1.6823 - val_loss: 2.7169 - val_mae: 2.7169\n",
      "Epoch 66/100\n",
      "\u001b[1m10/10\u001b[0m \u001b[32m━━━━━━━━━━━━━━━━━━━━\u001b[0m\u001b[37m\u001b[0m \u001b[1m0s\u001b[0m 7ms/step - loss: 1.8880 - mae: 1.8880 - val_loss: 2.6713 - val_mae: 2.6713\n",
      "Epoch 67/100\n",
      "\u001b[1m10/10\u001b[0m \u001b[32m━━━━━━━━━━━━━━━━━━━━\u001b[0m\u001b[37m\u001b[0m \u001b[1m0s\u001b[0m 7ms/step - loss: 1.5335 - mae: 1.5335 - val_loss: 2.7472 - val_mae: 2.7472\n",
      "Epoch 68/100\n",
      "\u001b[1m10/10\u001b[0m \u001b[32m━━━━━━━━━━━━━━━━━━━━\u001b[0m\u001b[37m\u001b[0m \u001b[1m0s\u001b[0m 6ms/step - loss: 1.6818 - mae: 1.6818 - val_loss: 2.7740 - val_mae: 2.7740\n",
      "Epoch 69/100\n",
      "\u001b[1m10/10\u001b[0m \u001b[32m━━━━━━━━━━━━━━━━━━━━\u001b[0m\u001b[37m\u001b[0m \u001b[1m0s\u001b[0m 6ms/step - loss: 1.6885 - mae: 1.6885 - val_loss: 2.8182 - val_mae: 2.8182\n",
      "Epoch 70/100\n",
      "\u001b[1m10/10\u001b[0m \u001b[32m━━━━━━━━━━━━━━━━━━━━\u001b[0m\u001b[37m\u001b[0m \u001b[1m0s\u001b[0m 6ms/step - loss: 1.8094 - mae: 1.8094 - val_loss: 2.7498 - val_mae: 2.7498\n",
      "Epoch 71/100\n",
      "\u001b[1m10/10\u001b[0m \u001b[32m━━━━━━━━━━━━━━━━━━━━\u001b[0m\u001b[37m\u001b[0m \u001b[1m0s\u001b[0m 6ms/step - loss: 1.4968 - mae: 1.4968 - val_loss: 2.6826 - val_mae: 2.6826\n",
      "Epoch 72/100\n",
      "\u001b[1m10/10\u001b[0m \u001b[32m━━━━━━━━━━━━━━━━━━━━\u001b[0m\u001b[37m\u001b[0m \u001b[1m0s\u001b[0m 6ms/step - loss: 1.6831 - mae: 1.6831 - val_loss: 2.7047 - val_mae: 2.7047\n",
      "Epoch 73/100\n",
      "\u001b[1m10/10\u001b[0m \u001b[32m━━━━━━━━━━━━━━━━━━━━\u001b[0m\u001b[37m\u001b[0m \u001b[1m0s\u001b[0m 7ms/step - loss: 1.4861 - mae: 1.4861 - val_loss: 2.7465 - val_mae: 2.7465\n",
      "Epoch 74/100\n",
      "\u001b[1m10/10\u001b[0m \u001b[32m━━━━━━━━━━━━━━━━━━━━\u001b[0m\u001b[37m\u001b[0m \u001b[1m0s\u001b[0m 9ms/step - loss: 1.5648 - mae: 1.5648 - val_loss: 2.6846 - val_mae: 2.6846\n",
      "Epoch 75/100\n",
      "\u001b[1m10/10\u001b[0m \u001b[32m━━━━━━━━━━━━━━━━━━━━\u001b[0m\u001b[37m\u001b[0m \u001b[1m0s\u001b[0m 8ms/step - loss: 1.5350 - mae: 1.5350 - val_loss: 2.6940 - val_mae: 2.6940\n",
      "Epoch 76/100\n",
      "\u001b[1m10/10\u001b[0m \u001b[32m━━━━━━━━━━━━━━━━━━━━\u001b[0m\u001b[37m\u001b[0m \u001b[1m0s\u001b[0m 7ms/step - loss: 1.5222 - mae: 1.5222 - val_loss: 2.5998 - val_mae: 2.5998\n",
      "Epoch 77/100\n",
      "\u001b[1m10/10\u001b[0m \u001b[32m━━━━━━━━━━━━━━━━━━━━\u001b[0m\u001b[37m\u001b[0m \u001b[1m0s\u001b[0m 6ms/step - loss: 1.7890 - mae: 1.7890 - val_loss: 2.7312 - val_mae: 2.7312\n",
      "Epoch 78/100\n",
      "\u001b[1m10/10\u001b[0m \u001b[32m━━━━━━━━━━━━━━━━━━━━\u001b[0m\u001b[37m\u001b[0m \u001b[1m0s\u001b[0m 6ms/step - loss: 1.6012 - mae: 1.6012 - val_loss: 2.6311 - val_mae: 2.6311\n",
      "Epoch 79/100\n",
      "\u001b[1m10/10\u001b[0m \u001b[32m━━━━━━━━━━━━━━━━━━━━\u001b[0m\u001b[37m\u001b[0m \u001b[1m0s\u001b[0m 9ms/step - loss: 1.5488 - mae: 1.5488 - val_loss: 2.8350 - val_mae: 2.8350\n",
      "Epoch 80/100\n",
      "\u001b[1m10/10\u001b[0m \u001b[32m━━━━━━━━━━━━━━━━━━━━\u001b[0m\u001b[37m\u001b[0m \u001b[1m0s\u001b[0m 6ms/step - loss: 1.8169 - mae: 1.8169 - val_loss: 2.8474 - val_mae: 2.8474\n",
      "Epoch 81/100\n",
      "\u001b[1m10/10\u001b[0m \u001b[32m━━━━━━━━━━━━━━━━━━━━\u001b[0m\u001b[37m\u001b[0m \u001b[1m0s\u001b[0m 7ms/step - loss: 1.6566 - mae: 1.6566 - val_loss: 2.6973 - val_mae: 2.6973\n",
      "Epoch 82/100\n",
      "\u001b[1m10/10\u001b[0m \u001b[32m━━━━━━━━━━━━━━━━━━━━\u001b[0m\u001b[37m\u001b[0m \u001b[1m0s\u001b[0m 7ms/step - loss: 1.7846 - mae: 1.7846 - val_loss: 2.7551 - val_mae: 2.7551\n",
      "Epoch 83/100\n",
      "\u001b[1m10/10\u001b[0m \u001b[32m━━━━━━━━━━━━━━━━━━━━\u001b[0m\u001b[37m\u001b[0m \u001b[1m0s\u001b[0m 7ms/step - loss: 1.6166 - mae: 1.6166 - val_loss: 2.5987 - val_mae: 2.5987\n",
      "Epoch 84/100\n",
      "\u001b[1m10/10\u001b[0m \u001b[32m━━━━━━━━━━━━━━━━━━━━\u001b[0m\u001b[37m\u001b[0m \u001b[1m0s\u001b[0m 6ms/step - loss: 1.8083 - mae: 1.8083 - val_loss: 2.7265 - val_mae: 2.7265\n",
      "Epoch 85/100\n",
      "\u001b[1m10/10\u001b[0m \u001b[32m━━━━━━━━━━━━━━━━━━━━\u001b[0m\u001b[37m\u001b[0m \u001b[1m0s\u001b[0m 7ms/step - loss: 1.7825 - mae: 1.7825 - val_loss: 2.6779 - val_mae: 2.6779\n",
      "Epoch 86/100\n",
      "\u001b[1m10/10\u001b[0m \u001b[32m━━━━━━━━━━━━━━━━━━━━\u001b[0m\u001b[37m\u001b[0m \u001b[1m0s\u001b[0m 7ms/step - loss: 1.4805 - mae: 1.4805 - val_loss: 2.7564 - val_mae: 2.7564\n",
      "Epoch 87/100\n",
      "\u001b[1m10/10\u001b[0m \u001b[32m━━━━━━━━━━━━━━━━━━━━\u001b[0m\u001b[37m\u001b[0m \u001b[1m0s\u001b[0m 7ms/step - loss: 1.6233 - mae: 1.6233 - val_loss: 2.6467 - val_mae: 2.6467\n",
      "Epoch 88/100\n",
      "\u001b[1m10/10\u001b[0m \u001b[32m━━━━━━━━━━━━━━━━━━━━\u001b[0m\u001b[37m\u001b[0m \u001b[1m0s\u001b[0m 6ms/step - loss: 1.7802 - mae: 1.7802 - val_loss: 2.7998 - val_mae: 2.7998\n",
      "Epoch 89/100\n",
      "\u001b[1m10/10\u001b[0m \u001b[32m━━━━━━━━━━━━━━━━━━━━\u001b[0m\u001b[37m\u001b[0m \u001b[1m0s\u001b[0m 7ms/step - loss: 1.6583 - mae: 1.6583 - val_loss: 2.7437 - val_mae: 2.7437\n",
      "Epoch 90/100\n",
      "\u001b[1m10/10\u001b[0m \u001b[32m━━━━━━━━━━━━━━━━━━━━\u001b[0m\u001b[37m\u001b[0m \u001b[1m0s\u001b[0m 7ms/step - loss: 1.5600 - mae: 1.5600 - val_loss: 2.7643 - val_mae: 2.7643\n",
      "Epoch 91/100\n",
      "\u001b[1m10/10\u001b[0m \u001b[32m━━━━━━━━━━━━━━━━━━━━\u001b[0m\u001b[37m\u001b[0m \u001b[1m0s\u001b[0m 6ms/step - loss: 1.7721 - mae: 1.7721 - val_loss: 2.7521 - val_mae: 2.7521\n",
      "Epoch 92/100\n",
      "\u001b[1m10/10\u001b[0m \u001b[32m━━━━━━━━━━━━━━━━━━━━\u001b[0m\u001b[37m\u001b[0m \u001b[1m0s\u001b[0m 6ms/step - loss: 1.5880 - mae: 1.5880 - val_loss: 2.5570 - val_mae: 2.5570\n",
      "Epoch 93/100\n",
      "\u001b[1m10/10\u001b[0m \u001b[32m━━━━━━━━━━━━━━━━━━━━\u001b[0m\u001b[37m\u001b[0m \u001b[1m0s\u001b[0m 10ms/step - loss: 1.4097 - mae: 1.4097 - val_loss: 2.8295 - val_mae: 2.8295\n",
      "Epoch 94/100\n",
      "\u001b[1m10/10\u001b[0m \u001b[32m━━━━━━━━━━━━━━━━━━━━\u001b[0m\u001b[37m\u001b[0m \u001b[1m0s\u001b[0m 9ms/step - loss: 1.6147 - mae: 1.6147 - val_loss: 2.6853 - val_mae: 2.6853\n",
      "Epoch 95/100\n",
      "\u001b[1m10/10\u001b[0m \u001b[32m━━━━━━━━━━━━━━━━━━━━\u001b[0m\u001b[37m\u001b[0m \u001b[1m0s\u001b[0m 7ms/step - loss: 1.6797 - mae: 1.6797 - val_loss: 2.6475 - val_mae: 2.6475\n",
      "Epoch 96/100\n",
      "\u001b[1m10/10\u001b[0m \u001b[32m━━━━━━━━━━━━━━━━━━━━\u001b[0m\u001b[37m\u001b[0m \u001b[1m0s\u001b[0m 6ms/step - loss: 1.5732 - mae: 1.5732 - val_loss: 2.6563 - val_mae: 2.6563\n",
      "Epoch 97/100\n",
      "\u001b[1m10/10\u001b[0m \u001b[32m━━━━━━━━━━━━━━━━━━━━\u001b[0m\u001b[37m\u001b[0m \u001b[1m0s\u001b[0m 8ms/step - loss: 1.4984 - mae: 1.4984 - val_loss: 2.8041 - val_mae: 2.8041\n",
      "Epoch 98/100\n",
      "\u001b[1m10/10\u001b[0m \u001b[32m━━━━━━━━━━━━━━━━━━━━\u001b[0m\u001b[37m\u001b[0m \u001b[1m0s\u001b[0m 7ms/step - loss: 1.5709 - mae: 1.5709 - val_loss: 2.5629 - val_mae: 2.5629\n",
      "Epoch 99/100\n",
      "\u001b[1m10/10\u001b[0m \u001b[32m━━━━━━━━━━━━━━━━━━━━\u001b[0m\u001b[37m\u001b[0m \u001b[1m0s\u001b[0m 7ms/step - loss: 1.3839 - mae: 1.3839 - val_loss: 2.6174 - val_mae: 2.6174\n",
      "Epoch 100/100\n",
      "\u001b[1m10/10\u001b[0m \u001b[32m━━━━━━━━━━━━━━━━━━━━\u001b[0m\u001b[37m\u001b[0m \u001b[1m0s\u001b[0m 7ms/step - loss: 1.3061 - mae: 1.3061 - val_loss: 2.6483 - val_mae: 2.6483\n"
     ]
    }
   ],
   "source": [
    "history = model.fit(\n",
    "    dados_treino, rotulos_treino,\n",
    "    epochs = 100,\n",
    "    verbose = 1,\n",
    "    validation_split = 0.2\n",
    ")"
   ]
  },
  {
   "cell_type": "code",
   "execution_count": 148,
   "id": "a8241c31-27ae-4160-b938-6685a966ce49",
   "metadata": {},
   "outputs": [
    {
     "data": {
      "image/png": "[encoded data removed]",
      "text/plain": [
       "<Figure size 640x480 with 1 Axes>"
      ]
     },
     "metadata": {},
     "output_type": "display_data"
    }
   ],
   "source": [
    "def plot_loss(history):\n",
    "    plt.plot(history.history['loss'], label='loss')\n",
    "    plt.plot(history.history['val_loss'], label='val_loss')\n",
    "    plt.ylim([0, 25])\n",
    "    plt.xlabel('Epoch')\n",
    "    plt.ylabel('MAE (Erro medio absoluto)')\n",
    "    plt.legend()\n",
    "    plt.grid(True)\n",
    "plot_loss(history)"
   ]
  },
  {
   "cell_type": "code",
   "execution_count": 149,
   "id": "592c57a8-ce44-4b08-90f7-7789a6f84648",
   "metadata": {},
   "outputs": [
    {
     "name": "stdout",
     "output_type": "stream",
     "text": [
      "\u001b[1m4/4\u001b[0m \u001b[32m━━━━━━━━━━━━━━━━━━━━\u001b[0m\u001b[37m\u001b[0m \u001b[1m0s\u001b[0m 3ms/step - loss: 2.1550 - mae: 2.1550 \n"
     ]
    },
    {
     "data": {
      "text/plain": [
       "[2.2642674446105957, 2.2642674446105957]"
      ]
     },
     "execution_count": 149,
     "metadata": {},
     "output_type": "execute_result"
    }
   ],
   "source": [
    "model.evaluate(\n",
    "    dados_teste,\n",
    "    rotulos_teste, verbose=1) "
   ]
  },
  {
   "cell_type": "markdown",
   "id": "db40a729-6207-476c-aa72-af144d8d45f0",
   "metadata": {},
   "source": [
    "<h2>Making Predictions</h2>"
   ]
  },
  {
   "cell_type": "code",
   "execution_count": 151,
   "id": "506ca2c2-c590-4cb6-9368-39e4f7fc31f5",
   "metadata": {
    "scrolled": true
   },
   "outputs": [
    {
     "name": "stdout",
     "output_type": "stream",
     "text": [
      "\u001b[1m1/1\u001b[0m \u001b[32m━━━━━━━━━━━━━━━━━━━━\u001b[0m\u001b[37m\u001b[0m \u001b[1m0s\u001b[0m 148ms/step\n"
     ]
    }
   ],
   "source": [
    "previsao = model.predict(dados_previsao) "
   ]
  },
  {
   "cell_type": "code",
   "execution_count": 152,
   "id": "e96f3dff-8d70-4694-8e2a-833d606281d4",
   "metadata": {},
   "outputs": [
    {
     "name": "stdout",
     "output_type": "stream",
     "text": [
      "Previsão: 23.33, Real: 22.10\n",
      "Previsão: 22.35, Real: 23.10\n",
      "Previsão: 13.67, Real: 17.20\n",
      "Previsão: 22.66, Real: 21.70\n"
     ]
    }
   ],
   "source": [
    "for i in range(len(dados_previsao)):\n",
    "    print(f\"Previsão: {previsao[i][0]:.2f}, Real: {rotulos_previsao[i]:.2f}\")\n",
    "\n",
    "# Teria sido melhor normalizar os dados de entrada ( dados_para_previsao ) e também os rotulos_previsão mas... "
   ]
  },
  {
   "cell_type": "code",
   "execution_count": null,
   "id": "62cf24be-50c7-4578-9b5b-301029a17bdd",
   "metadata": {},
   "outputs": [],
   "source": []
  },
  {
   "cell_type": "code",
   "execution_count": null,
   "id": "bc827d08-4b7a-40eb-b33f-924d6f972664",
   "metadata": {},
   "outputs": [],
   "source": []
  }
 ],
 "metadata": {
  "kernelspec": {
   "display_name": "Python 3 (ipykernel)",
   "language": "python",
   "name": "python3"
  },
  "language_info": {
   "codemirror_mode": {
    "name": "ipython",
    "version": 3
   },
   "file_extension": ".py",
   "mimetype": "text/x-python",
   "name": "python",
   "nbconvert_exporter": "python",
   "pygments_lexer": "ipython3",
   "version": "3.12.4"
  }
 },
 "nbformat": 4,
 "nbformat_minor": 5
}
